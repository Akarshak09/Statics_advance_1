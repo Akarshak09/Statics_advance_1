{
  "nbformat": 4,
  "nbformat_minor": 0,
  "metadata": {
    "colab": {
      "provenance": []
    },
    "kernelspec": {
      "name": "python3",
      "display_name": "Python 3"
    },
    "language_info": {
      "name": "python"
    }
  },
  "cells": [
    {
      "cell_type": "code",
      "execution_count": null,
      "metadata": {
        "id": "NgXuHdBL84Ff"
      },
      "outputs": [],
      "source": []
    },
    {
      "cell_type": "markdown",
      "source": [
        "1. What is a Random Variable in Probability Theory?\n",
        "A random variable is a variable that represents the outcomes of a random experiment in numerical form.\n",
        "\n",
        "2. What are the Types of Random Variables?\n",
        "Discrete Random Variable: Takes on countable values (e.g., number of students in a class).\n",
        "\n",
        "Continuous Random Variable: Takes on an infinite number of values within a range (e.g., height, weight).\n",
        "\n",
        "3. What is the Difference Between Discrete and Continuous Distributions?\n",
        "Discrete Distribution: Represents the probabilities of discrete outcomes (e.g., number of defective items).\n",
        "\n",
        "Continuous Distribution: Represents the probabilities of outcomes in a continuous range (e.g., temperature).\n",
        "\n",
        "4. What are Probability Distribution Functions (PDF)?\n",
        "A Probability Distribution Function (PDF) describes the likelihood of a random variable taking on specific values (for discrete) or within a range (for continuous).\n",
        "\n",
        "5. How Do Cumulative Distribution Functions (CDF) Differ from PDF?\n",
        "A Cumulative Distribution Function (CDF) gives the probability that a random variable is less than or equal to a certain value, while PDF shows the probability of specific values or intervals.\n",
        "\n",
        "6. What is a Discrete Uniform Distribution?\n",
        "A Discrete Uniform Distribution is a distribution where all outcomes have an equal probability, such as the roll of a fair die.\n",
        "\n",
        "7. What are the Key Properties of a Bernoulli Distribution?\n",
        "It is a distribution with two outcomes (Success or Failure).\n",
        "\n",
        "The probability of success is the same for each trial.\n",
        "\n",
        "It is defined by a single parameter (probability of success).\n",
        "\n",
        "8. What is the Binomial Distribution, and How is it Used in Probability?\n",
        "It is a distribution that describes the number of successes in a fixed number of independent trials with a constant probability of success in each trial.\n",
        "\n",
        "9. What is the Poisson Distribution and Where is it Applied?\n",
        "It is a distribution that describes the probability of a certain number of events occurring in a fixed interval of time or space, where events occur randomly and independently.\n",
        "\n",
        "10. What is a Continuous Uniform Distribution?\n",
        "It is a distribution where all values within a specified range are equally likely to occur.\n",
        "\n",
        "11. What are the Characteristics of a Normal Distribution?\n",
        "It is a symmetric, bell-shaped distribution where most values cluster around the mean, with frequencies gradually decreasing as values move away from the mean.\n",
        "\n",
        "12. What is the Standard Normal Distribution, and Why is it Important?\n",
        "It is a special type of normal distribution with a mean of zero and a standard deviation of one, used as a reference for standardizing other distributions.\n",
        "\n",
        "13. What is the Central Limit Theorem (CLT), and Why is it Critical in Statistics?\n",
        "It is a statistical theory stating that the distribution of sample means approaches a normal distribution as the sample size increases, regardless of the population distribution.\n",
        "\n",
        "14. How Does the Central Limit Theorem Relate to the Normal Distribution?\n",
        "The Central Limit Theorem explains why sample means from any population tend to be normally distributed if the sample size is large enough.\n",
        "\n",
        "15. What is the Application of Z Statistics in Hypothesis Testing?\n",
        "Z statistics are used to determine how far a sample value is from the population mean in standard deviation units, helping in hypothesis testing.\n",
        "\n",
        "16. How Do You Calculate a Z-Score, and What Does It Represent?\n",
        "A Z-score represents how many standard deviations a value is from the mean, allowing for the comparison of values from different distributions.\n",
        "\n",
        "17. What are Point Estimates and Interval Estimates in Statistics?\n",
        "A point estimate provides a single value estimate of a population parameter, while an interval estimate provides a range within which the parameter is expected to lie.\n",
        "\n",
        "18. What is the Significance of Confidence Intervals in Statistical Analysis?\n",
        "Confidence intervals provide a range of values where the true population parameter is likely to lie with a specified level of confidence (e.g., 95%).\n",
        "\n",
        "19. What is the Relationship Between a Z-Score and a Confidence Interval?\n",
        "The Z-score determines the critical value used to calculate the confidence interval in a normal distribution.\n",
        "\n",
        "20. How Are Z-Scores Used to Compare Different Distributions?\n",
        "Z-scores standardize values, allowing for direct comparison between values from different distributions.\n",
        "\n",
        "21. What are the Assumptions for Applying the Central Limit Theorem?\n",
        "The sample should be randomly selected.\n",
        "\n",
        "Observations must be independent.\n",
        "\n",
        "Sample size should be sufficiently large (generally\n",
        "𝑛≥30\n",
        "n≥30).\n",
        "\n",
        "22. What is the Concept of Expected Value in a Probability Distribution?\n",
        "The expected value is the average outcome of a random variable if the experiment is repeated an infinite number of times.\n",
        "\n",
        "23. How Does a Probability Distribution Relate to the Expected Outcome of a Random Variable?\n",
        "The probability distribution describes the likelihood of each possible outcome, and the expected value is the weighted average of these outcomes."
      ],
      "metadata": {
        "id": "_3rtlBav9E5e"
      }
    }
  ]
}